{
 "cells": [
  {
   "cell_type": "markdown",
   "id": "bd393600",
   "metadata": {},
   "source": [
    "### Loading Dataset"
   ]
  },
  {
   "cell_type": "code",
   "execution_count": 2,
   "id": "98c81e75",
   "metadata": {},
   "outputs": [],
   "source": [
    "from sklearn.datasets import fetch_20newsgroups"
   ]
  },
  {
   "cell_type": "code",
   "execution_count": 3,
   "id": "01f6ec75",
   "metadata": {},
   "outputs": [
    {
     "name": "stdout",
     "output_type": "stream",
     "text": [
      "['alt.atheism',\n",
      " 'comp.graphics',\n",
      " 'comp.os.ms-windows.misc',\n",
      " 'comp.sys.ibm.pc.hardware',\n",
      " 'comp.sys.mac.hardware',\n",
      " 'comp.windows.x',\n",
      " 'misc.forsale',\n",
      " 'rec.autos',\n",
      " 'rec.motorcycles',\n",
      " 'rec.sport.baseball',\n",
      " 'rec.sport.hockey',\n",
      " 'sci.crypt',\n",
      " 'sci.electronics',\n",
      " 'sci.med',\n",
      " 'sci.space',\n",
      " 'soc.religion.christian',\n",
      " 'talk.politics.guns',\n",
      " 'talk.politics.mideast',\n",
      " 'talk.politics.misc',\n",
      " 'talk.religion.misc']\n"
     ]
    }
   ],
   "source": [
    "from pprint import pprint\n",
    "pprint(list(fetch_20newsgroups(subset='train').target_names))"
   ]
  },
  {
   "cell_type": "code",
   "execution_count": 4,
   "id": "b184ca8d",
   "metadata": {},
   "outputs": [],
   "source": [
    "# Selecting categories\n",
    "categories = [\n",
    "    'alt.atheism',\n",
    "    'talk.religion.misc',\n",
    "    'comp.graphics',\n",
    "    'sci.space'\n",
    "]"
   ]
  },
  {
   "cell_type": "code",
   "execution_count": 5,
   "id": "44833c99",
   "metadata": {},
   "outputs": [
    {
     "data": {
      "text/plain": [
       "array([1, 3, 2, 0, 2, 0, 2, 1, 2, 1], dtype=int64)"
      ]
     },
     "execution_count": 5,
     "metadata": {},
     "output_type": "execute_result"
    }
   ],
   "source": [
    "fetch_20newsgroups(subset='train',categories=categories).target[:10]"
   ]
  },
  {
   "cell_type": "code",
   "execution_count": 6,
   "id": "2b826828",
   "metadata": {},
   "outputs": [
    {
     "data": {
      "text/plain": [
       "(2034,)"
      ]
     },
     "execution_count": 6,
     "metadata": {},
     "output_type": "execute_result"
    }
   ],
   "source": [
    "fetch_20newsgroups(subset='train',categories=categories).filenames.shape"
   ]
  },
  {
   "cell_type": "code",
   "execution_count": 7,
   "id": "f4c695af",
   "metadata": {},
   "outputs": [],
   "source": [
    "data_train = fetch_20newsgroups(subset='train',categories=categories,shuffle=True,random_state=42)\n",
    "train_label = data_train.target\n",
    "data_test = fetch_20newsgroups(subset='test',categories=categories,shuffle=True,random_state=42)\n",
    "test_label = data_test.target"
   ]
  },
  {
   "cell_type": "code",
   "execution_count": 8,
   "id": "cd79c510",
   "metadata": {},
   "outputs": [
    {
     "data": {
      "text/plain": [
       "array([0, 1, 2, 3], dtype=int64)"
      ]
     },
     "execution_count": 8,
     "metadata": {},
     "output_type": "execute_result"
    }
   ],
   "source": [
    "import numpy as np\n",
    "np.unique(test_label)"
   ]
  },
  {
   "cell_type": "code",
   "execution_count": 9,
   "id": "e61f41ed",
   "metadata": {},
   "outputs": [],
   "source": [
    "#import re"
   ]
  },
  {
   "cell_type": "code",
   "execution_count": 10,
   "id": "6aa22922",
   "metadata": {},
   "outputs": [],
   "source": [
    "#def clean(x):\n",
    "    \n",
    "    #remove all html tags from data\n",
    "    #remove all numbers from data\n",
    "    #remove all special chars from data\n",
    "    #remove stop words\n",
    "    #stemming\n",
    "    #etc..\n",
    " #   s = re.sub('<.*?>',' ',x) #remove html tags\n",
    "    \n",
    "  #  s = re.sub('[^A-Za-z]',' ',s)  \n",
    "    #to replace everything except A-Z or a-z with ' '(single space)\n",
    "    \n",
    "   # s = re.sub('\\s+',' ',s)       \n",
    "    #to replace more than one space's with single space only\n",
    "    \n",
    "    #s = s.strip()    \n",
    "    #remove spaces from either from beginning or end of string\n",
    "    \n",
    "    #return s.lower()    #return string in lower case\n",
    "    "
   ]
  },
  {
   "cell_type": "markdown",
   "id": "3ac85072",
   "metadata": {},
   "source": [
    "Getting error: TypeError: expected string or bytes-like object"
   ]
  },
  {
   "cell_type": "code",
   "execution_count": 11,
   "id": "d846e8e3",
   "metadata": {},
   "outputs": [
    {
     "name": "stderr",
     "output_type": "stream",
     "text": [
      "[nltk_data] Downloading package names to\n",
      "[nltk_data]     C:\\Users\\Aniket\\AppData\\Roaming\\nltk_data...\n",
      "[nltk_data]   Package names is already up-to-date!\n",
      "[nltk_data] Downloading package wordnet to\n",
      "[nltk_data]     C:\\Users\\Aniket\\AppData\\Roaming\\nltk_data...\n",
      "[nltk_data]   Package wordnet is already up-to-date!\n"
     ]
    }
   ],
   "source": [
    "# Cleaning the data\n",
    "import nltk\n",
    "nltk.download('names')\n",
    "import nltk\n",
    "nltk.download('wordnet')\n",
    "  \n",
    "from collections import defaultdict\n",
    "from nltk.stem import WordNetLemmatizer\n",
    "from nltk.corpus import names\n",
    "\n",
    "all_names = names.words()\n",
    "WNL = WordNetLemmatizer()\n",
    "def clean(data):\n",
    "    cleaned = defaultdict(list)\n",
    "    count = 0\n",
    "    for group in data:\n",
    "        for words in group.split():\n",
    "            if words.isalpha() and words not in all_names:\n",
    "                cleaned[count].append(WNL.lemmatize(words.lower()))\n",
    "        cleaned[count] = ' '.join(cleaned[count])\n",
    "        count +=1 \n",
    "    return(list(cleaned.values()))"
   ]
  },
  {
   "cell_type": "code",
   "execution_count": 12,
   "id": "32b3232d",
   "metadata": {},
   "outputs": [
    {
     "data": {
      "text/plain": [
       "'where did all the texture rule noticed that if you only save a model all your mapping plane positioned to a file that when you reload it after restarting they are given a default position and but if you save to a file their are doe anyone know why this information is not stored in the nothing is explicitly said in the manual about saving texture rule in the like to be able to read the texture rule doe anyone have the format for the is the file format available from rych rycharde hawkes virtual environment laboratory of psychology tel of edinburgh fax'"
      ]
     },
     "execution_count": 12,
     "metadata": {},
     "output_type": "execute_result"
    }
   ],
   "source": [
    "x_train = clean(data_train.data)\n",
    "x_train[0]"
   ]
  },
  {
   "cell_type": "code",
   "execution_count": 13,
   "id": "2670be56",
   "metadata": {},
   "outputs": [
    {
     "data": {
      "text/plain": [
       "2034"
      ]
     },
     "execution_count": 13,
     "metadata": {},
     "output_type": "execute_result"
    }
   ],
   "source": [
    "len(x_train)"
   ]
  },
  {
   "cell_type": "code",
   "execution_count": 14,
   "id": "e7bd4dbd",
   "metadata": {},
   "outputs": [],
   "source": [
    "x_test = clean(data_test.data)"
   ]
  },
  {
   "cell_type": "code",
   "execution_count": 15,
   "id": "d7225d35",
   "metadata": {},
   "outputs": [
    {
     "data": {
      "text/plain": [
       "1353"
      ]
     },
     "execution_count": 15,
     "metadata": {},
     "output_type": "execute_result"
    }
   ],
   "source": [
    "len(x_test)"
   ]
  },
  {
   "cell_type": "code",
   "execution_count": 16,
   "id": "a59a3f6a",
   "metadata": {},
   "outputs": [],
   "source": [
    "# Converting to TF-IDF Format\n",
    "from sklearn.feature_extraction.text import TfidfVectorizer\n",
    "\n",
    "tf = TfidfVectorizer(stop_words='english', max_features=1000)\n",
    "X_train = tf.fit_transform(x_train)\n",
    "X_test = tf.transform(x_test)"
   ]
  },
  {
   "cell_type": "code",
   "execution_count": 17,
   "id": "899d797a",
   "metadata": {},
   "outputs": [
    {
     "data": {
      "text/plain": [
       "(2034, 1000)"
      ]
     },
     "execution_count": 17,
     "metadata": {},
     "output_type": "execute_result"
    }
   ],
   "source": [
    "X_train.shape"
   ]
  },
  {
   "cell_type": "code",
   "execution_count": 18,
   "id": "43f2a95d",
   "metadata": {},
   "outputs": [
    {
     "data": {
      "text/plain": [
       "(1353, 1000)"
      ]
     },
     "execution_count": 18,
     "metadata": {},
     "output_type": "execute_result"
    }
   ],
   "source": [
    "X_test.shape"
   ]
  },
  {
   "cell_type": "markdown",
   "id": "8656b6ae",
   "metadata": {},
   "source": [
    "## MultimonialNB"
   ]
  },
  {
   "cell_type": "code",
   "execution_count": 19,
   "id": "68e1f091",
   "metadata": {},
   "outputs": [],
   "source": [
    "from sklearn.naive_bayes import MultinomialNB\n",
    "from sklearn import metrics\n",
    "\n",
    "clf = MultinomialNB()\n",
    "params = {'alpha' : (0.5,1,1.5,2)}"
   ]
  },
  {
   "cell_type": "code",
   "execution_count": 20,
   "id": "0b75a748",
   "metadata": {},
   "outputs": [
    {
     "data": {
      "text/plain": [
       "GridSearchCV(cv=4, estimator=MultinomialNB(), n_jobs=-1,\n",
       "             param_grid={'alpha': (0.5, 1, 1.5, 2)})"
      ]
     },
     "execution_count": 20,
     "metadata": {},
     "output_type": "execute_result"
    }
   ],
   "source": [
    "from sklearn.model_selection import GridSearchCV\n",
    "grid_search1 = GridSearchCV(clf, param_grid=params,n_jobs=-1,cv=4)\n",
    "grid_search1.fit(X_train,train_label)"
   ]
  },
  {
   "cell_type": "code",
   "execution_count": 21,
   "id": "075f0890",
   "metadata": {},
   "outputs": [
    {
     "data": {
      "text/plain": [
       "{'alpha': 0.5}"
      ]
     },
     "execution_count": 21,
     "metadata": {},
     "output_type": "execute_result"
    }
   ],
   "source": [
    "grid_search1.best_params_"
   ]
  },
  {
   "cell_type": "code",
   "execution_count": 22,
   "id": "bdfb895e",
   "metadata": {},
   "outputs": [
    {
     "data": {
      "text/plain": [
       "0.8854409990254166"
      ]
     },
     "execution_count": 22,
     "metadata": {},
     "output_type": "execute_result"
    }
   ],
   "source": [
    "grid_search1.best_score_"
   ]
  },
  {
   "cell_type": "code",
   "execution_count": 23,
   "id": "fff75dae",
   "metadata": {},
   "outputs": [
    {
     "data": {
      "text/plain": [
       "0.8248337028824834"
      ]
     },
     "execution_count": 23,
     "metadata": {},
     "output_type": "execute_result"
    }
   ],
   "source": [
    "best1 = grid_search1.best_estimator_\n",
    "accuracy1 = best1.score(X_test,test_label)\n",
    "accuracy1"
   ]
  },
  {
   "cell_type": "markdown",
   "id": "1c662b24",
   "metadata": {},
   "source": [
    "## SVC"
   ]
  },
  {
   "cell_type": "code",
   "execution_count": 24,
   "id": "fb2f9265",
   "metadata": {},
   "outputs": [],
   "source": [
    "from sklearn.svm import SVC"
   ]
  },
  {
   "cell_type": "code",
   "execution_count": 25,
   "id": "c3be0bf6",
   "metadata": {},
   "outputs": [],
   "source": [
    "svc_lib = SVC(kernel='linear')\n",
    "params = {'C':(0.5,0.6,1.0,1.3,1.5)}"
   ]
  },
  {
   "cell_type": "code",
   "execution_count": 26,
   "id": "631c5d36",
   "metadata": {},
   "outputs": [],
   "source": [
    "grid_search2 = GridSearchCV(svc_lib, param_grid=params, n_jobs=-1, cv=4)"
   ]
  },
  {
   "cell_type": "code",
   "execution_count": 27,
   "id": "64792263",
   "metadata": {},
   "outputs": [
    {
     "data": {
      "text/plain": [
       "GridSearchCV(cv=4, estimator=SVC(kernel='linear'), n_jobs=-1,\n",
       "             param_grid={'C': (0.5, 0.6, 1.0, 1.3, 1.5)})"
      ]
     },
     "execution_count": 27,
     "metadata": {},
     "output_type": "execute_result"
    }
   ],
   "source": [
    "grid_search2.fit(X_train, train_label)"
   ]
  },
  {
   "cell_type": "code",
   "execution_count": 28,
   "id": "1f759374",
   "metadata": {},
   "outputs": [
    {
     "data": {
      "text/plain": [
       "0.8849488730411645"
      ]
     },
     "execution_count": 28,
     "metadata": {},
     "output_type": "execute_result"
    }
   ],
   "source": [
    "grid_search2.best_score_"
   ]
  },
  {
   "cell_type": "code",
   "execution_count": 29,
   "id": "301bc3ae",
   "metadata": {},
   "outputs": [],
   "source": [
    "best2 = grid_search2.best_estimator_"
   ]
  },
  {
   "cell_type": "code",
   "execution_count": 30,
   "id": "5522ea89",
   "metadata": {},
   "outputs": [],
   "source": [
    "accuracy2 = best2.score(X_test, test_label)"
   ]
  },
  {
   "cell_type": "code",
   "execution_count": 31,
   "id": "d88d4e0d",
   "metadata": {},
   "outputs": [
    {
     "data": {
      "text/plain": [
       "0.7982261640798226"
      ]
     },
     "execution_count": 31,
     "metadata": {},
     "output_type": "execute_result"
    }
   ],
   "source": [
    "accuracy2"
   ]
  },
  {
   "cell_type": "markdown",
   "id": "d9bb15fc",
   "metadata": {},
   "source": [
    "## Linear SVC"
   ]
  },
  {
   "cell_type": "code",
   "execution_count": 34,
   "id": "f186840f",
   "metadata": {},
   "outputs": [],
   "source": [
    "from sklearn.pipeline import Pipeline\n",
    "from sklearn.svm import LinearSVC"
   ]
  },
  {
   "cell_type": "code",
   "execution_count": 35,
   "id": "0c5e34cd",
   "metadata": {},
   "outputs": [],
   "source": [
    "# Model tuning in linear SVC\n",
    "pipeline = Pipeline([('tf_id', TfidfVectorizer(stop_words = \"english\")), ('svm_im', LinearSVC())])\n",
    "pipeline\n",
    "\n",
    "parameter = {'tf_id__max_features' : (100,1000, 2000, 8000),\n",
    "             'tf_id__max_df' : (0.25, 0.5),\n",
    "             'tf_id__smooth_idf' : (True, False),\n",
    "             'tf_id__sublinear_tf' : (True, False)\n",
    "}"
   ]
  },
  {
   "cell_type": "code",
   "execution_count": 36,
   "id": "f314fd41",
   "metadata": {},
   "outputs": [
    {
     "data": {
      "text/plain": [
       "GridSearchCV(cv=3,\n",
       "             estimator=Pipeline(steps=[('tf_id',\n",
       "                                        TfidfVectorizer(stop_words='english')),\n",
       "                                       ('svm_im', LinearSVC())]),\n",
       "             param_grid={'tf_id__max_df': (0.25, 0.5),\n",
       "                         'tf_id__max_features': (100, 1000, 2000, 8000),\n",
       "                         'tf_id__smooth_idf': (True, False),\n",
       "                         'tf_id__sublinear_tf': (True, False)})"
      ]
     },
     "execution_count": 36,
     "metadata": {},
     "output_type": "execute_result"
    }
   ],
   "source": [
    "grid_search = GridSearchCV(pipeline, parameter,cv = 3)\n",
    "grid_search.fit(x_train, train_label)"
   ]
  },
  {
   "cell_type": "code",
   "execution_count": 37,
   "id": "3d7ea631",
   "metadata": {},
   "outputs": [
    {
     "data": {
      "text/plain": [
       "{'tf_id__max_df': 0.25,\n",
       " 'tf_id__max_features': 8000,\n",
       " 'tf_id__smooth_idf': False,\n",
       " 'tf_id__sublinear_tf': False}"
      ]
     },
     "execution_count": 37,
     "metadata": {},
     "output_type": "execute_result"
    }
   ],
   "source": [
    "grid_search.best_params_"
   ]
  },
  {
   "cell_type": "code",
   "execution_count": 39,
   "id": "2ac2e685",
   "metadata": {},
   "outputs": [
    {
     "data": {
      "text/plain": [
       "0.9410029498525074"
      ]
     },
     "execution_count": 39,
     "metadata": {},
     "output_type": "execute_result"
    }
   ],
   "source": [
    "grid_search.best_score_"
   ]
  },
  {
   "cell_type": "markdown",
   "id": "6234249c",
   "metadata": {},
   "source": [
    "#### Making a table for all the scores obtained so far"
   ]
  },
  {
   "cell_type": "code",
   "execution_count": 51,
   "id": "8aa4bcc2",
   "metadata": {},
   "outputs": [],
   "source": [
    "scores = {\n",
    "    'MultinomialNB' : [0.824],\n",
    "    'SVC' : [0.798],\n",
    "    'LinearSVC' : [0.941] \n",
    "}\n"
   ]
  },
  {
   "cell_type": "code",
   "execution_count": 54,
   "id": "b3253679",
   "metadata": {},
   "outputs": [
    {
     "data": {
      "text/html": [
       "<div>\n",
       "<style scoped>\n",
       "    .dataframe tbody tr th:only-of-type {\n",
       "        vertical-align: middle;\n",
       "    }\n",
       "\n",
       "    .dataframe tbody tr th {\n",
       "        vertical-align: top;\n",
       "    }\n",
       "\n",
       "    .dataframe thead th {\n",
       "        text-align: right;\n",
       "    }\n",
       "</style>\n",
       "<table border=\"1\" class=\"dataframe\">\n",
       "  <thead>\n",
       "    <tr style=\"text-align: right;\">\n",
       "      <th></th>\n",
       "      <th>MultinomialNB</th>\n",
       "      <th>SVC</th>\n",
       "      <th>LinearSVC</th>\n",
       "    </tr>\n",
       "  </thead>\n",
       "  <tbody>\n",
       "    <tr>\n",
       "      <th>scores</th>\n",
       "      <td>0.824</td>\n",
       "      <td>0.798</td>\n",
       "      <td>0.941</td>\n",
       "    </tr>\n",
       "  </tbody>\n",
       "</table>\n",
       "</div>"
      ],
      "text/plain": [
       "        MultinomialNB    SVC  LinearSVC\n",
       "scores          0.824  0.798      0.941"
      ]
     },
     "execution_count": 54,
     "metadata": {},
     "output_type": "execute_result"
    }
   ],
   "source": [
    "import pandas as pd\n",
    "index = pd.Index(['scores'])\n",
    "score = pd.DataFrame(scores)\n",
    "scores = score.set_index(index)\n",
    "scores\n"
   ]
  },
  {
   "cell_type": "markdown",
   "id": "9b5fdbc5",
   "metadata": {},
   "source": [
    "From the above result we can easily see that, we are getting an accuracy of 94.1% approx when we are using LinearSVC model, in comparison to MultinomialNB and SVC"
   ]
  },
  {
   "cell_type": "markdown",
   "id": "686d9688",
   "metadata": {},
   "source": [
    "#### Hence, the dataset has been classified "
   ]
  },
  {
   "cell_type": "code",
   "execution_count": null,
   "id": "5647a5bf",
   "metadata": {},
   "outputs": [],
   "source": []
  }
 ],
 "metadata": {
  "kernelspec": {
   "display_name": "Python 3",
   "language": "python",
   "name": "python3"
  },
  "language_info": {
   "codemirror_mode": {
    "name": "ipython",
    "version": 3
   },
   "file_extension": ".py",
   "mimetype": "text/x-python",
   "name": "python",
   "nbconvert_exporter": "python",
   "pygments_lexer": "ipython3",
   "version": "3.8.8"
  }
 },
 "nbformat": 4,
 "nbformat_minor": 5
}
